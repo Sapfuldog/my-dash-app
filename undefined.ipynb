{
 "cells": [
  {
   "cell_type": "code",
   "execution_count": 15,
   "metadata": {},
   "outputs": [
    {
     "data": {
      "text/plain": [
       "AgGrid(id='datatable', columnDefs=[{'field': 'Дата', 'editable': True}, {'field': 'Контрагент', 'editable': True}, {'field': 'Сумма', 'editable': True}, {'field': 'Договор', 'editable': True}, {'field': 'Статья учета', 'editable': True}, {'field': 'Банковский счет', 'editable': True}], dashGridOptions={'dataTypeDefinitions': {'object': {'baseDataType': 'object', 'extendsDataType': 'object', 'valueParser': {'function': '({ name: params.newValue })'}, 'valueFormatter': {'function': \"params.value == null ? '' : params.value.name\"}}}, 'animateRows': False}, defaultColDef={'filter': True, 'floatingFilter': True, 'resizable': True, 'sortable': True, 'editable': False, 'minWidth': 125, 'wrapHeaderText': True, 'autoHeaderHeight': True}, persistence=True, rowData=[{'Дата': Timestamp('2023-01-01 00:00:00'), 'Контрагент': 'Компания H', 'Сумма': 3862, 'Договор': 'Договор №597', 'Статья учета': 'Командировки', 'Банковский счет': 'Счет №8427'}, {'Дата': Timestamp('2023-01-01 01:00:00'), 'Контрагент': 'Компания H', 'Сумма': 29821, 'Договор': 'Договор №940', 'Статья учета': 'Товары', 'Банковский счет': 'Счет №3768'}, {'Дата': Timestamp('2023-01-01 02:00:00'), 'Контрагент': 'Компания E', 'Сумма': 3689, 'Договор': 'Договор №103', 'Статья учета': 'Прочее', 'Банковский счет': 'Счет №4054'}, {'Дата': Timestamp('2023-01-01 03:00:00'), 'Контрагент': 'Компания B', 'Сумма': 25346, 'Договор': 'Договор №882', 'Статья учета': 'Товары', 'Банковский счет': 'Счет №3660'}, {'Дата': Timestamp('2023-01-01 04:00:00'), 'Контрагент': 'Компания H', 'Сумма': 49061, 'Договор': 'Договор №868', 'Статья учета': 'Консультации', 'Банковский счет': 'Счет №2235'}], style={'resize': 'both', 'overflow': 'hidden'}, suppressDragLeaveHidesColumns=False)"
      ]
     },
     "execution_count": 15,
     "metadata": {},
     "output_type": "execute_result"
    }
   ],
   "source": [
    "import dash\n",
    "from dash import dcc, html, Input, Output\n",
    "import dash_bootstrap_components as dbc\n",
    "import plotly.graph_objects as go\n",
    "import numpy as np\n",
    "import pandas as pd\n",
    "import dash_ag_grid as dag\n",
    "\n",
    "\n",
    "num_rows = 10000\n",
    "\n",
    "# Создаем примеры данных\n",
    "data = {\n",
    "    'Дата': pd.date_range(start='2023-01-01', periods=num_rows, freq='h'),\n",
    "    'Контрагент': np.random.choice(['Компания А', 'Компания B', 'Компания C', 'Компания D', \n",
    "                                    'Компания E', 'Компания F', 'Компания G', 'Компания H', \n",
    "                                    'Компания I', 'Компания J'], size=num_rows),\n",
    "    'Сумма': np.random.randint(-1000, 50000, size=num_rows),\n",
    "    'Договор': [f'Договор №{i}' for i in np.random.randint(1, 1000, size=num_rows)],\n",
    "    'Статья учета': np.random.choice(['Услуги', 'Товары', 'Аренда', 'Зарплата', 'Командировки', \n",
    "                                      'Закупки', 'Прочее', 'Капитальные затраты', 'Реклама', \n",
    "                                      'Консультации'], size=num_rows),\n",
    "    'Банковский счет': [f'Счет №{np.random.randint(1000, 9999)}' for _ in range(num_rows)]\n",
    "}\n",
    "\n",
    "df = pd.DataFrame(data)\n",
    "df = df.head()\n",
    "dataTypeDefinitions = {\n",
    "    \"object\": {\n",
    "        \"baseDataType\": \"object\",\n",
    "        \"extendsDataType\": \"object\",\n",
    "        \"valueParser\": {\"function\": \"({ name: params.newValue })\"},\n",
    "        \"valueFormatter\": {\"function\": \"params.value == null ? '' : params.value.name\"},\n",
    "    },\n",
    "}\n",
    "\n",
    "col_defs = []\n",
    "for col in df.columns:\n",
    "    if pd.api.types.is_numeric_dtype(df[col]):\n",
    "        col_type = 'Number'\n",
    "    elif pd.api.types.is_datetime64_any_dtype(df[col]):\n",
    "        col_type = 'dateString'\n",
    "    else:\n",
    "        col_type = 'text'\n",
    "    col_defs.append({\"field\": col, 'editable': True})\n",
    "\n",
    "datatable = dag.AgGrid(id='datatable',\n",
    "                       rowData=df.to_dict('records'),\n",
    "                       columnDefs=col_defs,\n",
    "                       dashGridOptions={\"dataTypeDefinitions\": dataTypeDefinitions, \"animateRows\": False},\n",
    "                       suppressDragLeaveHidesColumns=False,\n",
    "                       persistence=True,\n",
    "                       defaultColDef={'filter': True,\n",
    "                                      'floatingFilter': True,\n",
    "                                      'resizable': True,\n",
    "                                      'sortable': True,\n",
    "                                      'editable': False,\n",
    "                                      'minWidth': 125,\n",
    "                                      'wrapHeaderText': True,\n",
    "                                      'autoHeaderHeight': True},\n",
    "                       style={'resize': 'both', 'overflow': 'hidden'}\n",
    "                       )\n",
    "fig_contract = go.Figure()\n",
    "fig_contract.add_trace(\n",
    "    go.Bar(\n",
    "            x=df['Статья учета'], \n",
    "            y=df['Сумма'], \n",
    "            name='Статья'))\n",
    "fig_contract.add_trace(go.Bar(\n",
    "        x=df['Контрагент'], \n",
    "        y=df['Сумма'], \n",
    "        name='Контрагент'))\n",
    "fig_contract.update_layout(\n",
    "        title=' ', \n",
    "        barmode='group')\n",
    "    \n",
    "datatable  "
   ]
  }
 ],
 "metadata": {
  "kernelspec": {
   "display_name": "dash_env",
   "language": "python",
   "name": "python3"
  },
  "language_info": {
   "codemirror_mode": {
    "name": "ipython",
    "version": 3
   },
   "file_extension": ".py",
   "mimetype": "text/x-python",
   "name": "python",
   "nbconvert_exporter": "python",
   "pygments_lexer": "ipython3",
   "version": "3.9.19"
  }
 },
 "nbformat": 4,
 "nbformat_minor": 2
}
